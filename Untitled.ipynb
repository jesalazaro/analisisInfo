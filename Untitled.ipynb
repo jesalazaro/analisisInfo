{
 "cells": [
  {
   "cell_type": "markdown",
   "metadata": {},
   "source": [
    "Se instalan las bibliotecas necesarias."
   ]
  },
  {
   "cell_type": "code",
   "execution_count": 43,
   "metadata": {
    "scrolled": true
   },
   "outputs": [
    {
     "name": "stdout",
     "output_type": "stream",
     "text": [
      "Defaulting to user installation because normal site-packages is not writeable\n",
      "Requirement already satisfied: pandas in /home/jaiver/.local/lib/python3.10/site-packages (1.3.5)\n",
      "Requirement already satisfied: python-dateutil>=2.7.3 in /home/jaiver/.local/lib/python3.10/site-packages (from pandas) (2.8.2)\n",
      "Requirement already satisfied: numpy>=1.21.0 in /home/jaiver/.local/lib/python3.10/site-packages (from pandas) (1.22.1)\n",
      "Requirement already satisfied: pytz>=2017.3 in /home/jaiver/.local/lib/python3.10/site-packages (from pandas) (2021.3)\n",
      "Requirement already satisfied: six>=1.5 in /usr/lib/python3.10/site-packages (from python-dateutil>=2.7.3->pandas) (1.16.0)\n",
      "Defaulting to user installation because normal site-packages is not writeable\n",
      "Requirement already satisfied: numpy in /home/jaiver/.local/lib/python3.10/site-packages (1.22.1)\n",
      "Defaulting to user installation because normal site-packages is not writeable\n",
      "Collecting matplot\n",
      "  Downloading matplot-0.1.9-py2.py3-none-any.whl (5.0 kB)\n",
      "Requirement already satisfied: matplotlib>=3.1.1 in /home/jaiver/.local/lib/python3.10/site-packages (from matplot) (3.5.1)\n",
      "Collecting pyloco>=0.0.134\n",
      "  Downloading pyloco-0.0.139-py2.py3-none-any.whl (60 kB)\n",
      "\u001b[2K     \u001b[38;2;114;156;31m━━━━━━━━━━━━━━━━━━━━━━━━━━━━━━━━━━━━━━━━\u001b[0m \u001b[32m60.2/60.2 KB\u001b[0m \u001b[31m2.2 MB/s\u001b[0m eta \u001b[36m0:00:00\u001b[0m\n",
      "\u001b[?25hRequirement already satisfied: fonttools>=4.22.0 in /home/jaiver/.local/lib/python3.10/site-packages (from matplotlib>=3.1.1->matplot) (4.31.2)\n",
      "Requirement already satisfied: numpy>=1.17 in /home/jaiver/.local/lib/python3.10/site-packages (from matplotlib>=3.1.1->matplot) (1.22.1)\n",
      "Requirement already satisfied: pillow>=6.2.0 in /usr/lib/python3.10/site-packages (from matplotlib>=3.1.1->matplot) (9.0.1)\n",
      "Requirement already satisfied: pyparsing>=2.2.1 in /usr/lib/python3.10/site-packages (from matplotlib>=3.1.1->matplot) (3.0.1)\n",
      "Requirement already satisfied: kiwisolver>=1.0.1 in /home/jaiver/.local/lib/python3.10/site-packages (from matplotlib>=3.1.1->matplot) (1.4.2)\n",
      "Requirement already satisfied: cycler>=0.10 in /home/jaiver/.local/lib/python3.10/site-packages (from matplotlib>=3.1.1->matplot) (0.11.0)\n",
      "Requirement already satisfied: packaging>=20.0 in /usr/lib/python3.10/site-packages (from matplotlib>=3.1.1->matplot) (20.9)\n",
      "Requirement already satisfied: python-dateutil>=2.7 in /home/jaiver/.local/lib/python3.10/site-packages (from matplotlib>=3.1.1->matplot) (2.8.2)\n",
      "Collecting ushlex\n",
      "  Downloading ushlex-0.99.1.tar.gz (4.7 kB)\n",
      "  Preparing metadata (setup.py) ... \u001b[?25ldone\n",
      "\u001b[?25hCollecting SimpleWebSocketServer\n",
      "  Downloading SimpleWebsocketServer-0.1.1.tar.gz (8.0 kB)\n",
      "  Preparing metadata (setup.py) ... \u001b[?25ldone\n",
      "\u001b[?25hCollecting twine\n",
      "  Downloading twine-4.0.0-py3-none-any.whl (36 kB)\n",
      "Collecting typing\n",
      "  Downloading typing-3.7.4.3.tar.gz (78 kB)\n",
      "\u001b[2K     \u001b[38;2;114;156;31m━━━━━━━━━━━━━━━━━━━━━━━━━━━━━━━━━━━━━━━━\u001b[0m \u001b[32m78.6/78.6 KB\u001b[0m \u001b[31m6.7 MB/s\u001b[0m eta \u001b[36m0:00:00\u001b[0m\n",
      "\u001b[?25h  Preparing metadata (setup.py) ... \u001b[?25ldone\n",
      "\u001b[?25hRequirement already satisfied: websocket-client in /home/jaiver/.local/lib/python3.10/site-packages (from pyloco>=0.0.134->matplot) (1.3.2)\n",
      "Requirement already satisfied: six>=1.5 in /usr/lib/python3.10/site-packages (from python-dateutil>=2.7->matplotlib>=3.1.1->matplot) (1.16.0)\n",
      "Collecting pkginfo>=1.8.1\n",
      "  Downloading pkginfo-1.8.2-py2.py3-none-any.whl (26 kB)\n",
      "Requirement already satisfied: urllib3>=1.26.0 in /usr/lib/python3.10/site-packages (from twine->pyloco>=0.0.134->matplot) (1.26.8)\n",
      "Collecting keyring>=15.1\n",
      "  Downloading keyring-23.5.0-py3-none-any.whl (33 kB)\n",
      "Requirement already satisfied: importlib-metadata>=3.6 in /usr/lib/python3.10/site-packages (from twine->pyloco>=0.0.134->matplot) (4.8.1)\n",
      "Collecting rich>=12.0.0\n",
      "  Downloading rich-12.2.0-py3-none-any.whl (229 kB)\n",
      "\u001b[2K     \u001b[38;2;114;156;31m━━━━━━━━━━━━━━━━━━━━━━━━━━━━━━━━━━━━━━━\u001b[0m \u001b[32m229.8/229.8 KB\u001b[0m \u001b[31m3.2 MB/s\u001b[0m eta \u001b[36m0:00:00\u001b[0m[36m0:00:01\u001b[0mm eta \u001b[36m0:00:01\u001b[0m\n",
      "\u001b[?25hCollecting readme-renderer>=21.0\n",
      "  Downloading readme_renderer-35.0-py3-none-any.whl (14 kB)\n",
      "Collecting rfc3986>=1.4.0\n",
      "  Downloading rfc3986-2.0.0-py2.py3-none-any.whl (31 kB)\n",
      "Collecting requests-toolbelt!=0.9.0,>=0.8.0\n",
      "  Downloading requests_toolbelt-0.9.1-py2.py3-none-any.whl (54 kB)\n",
      "\u001b[2K     \u001b[38;2;114;156;31m━━━━━━━━━━━━━━━━━━━━━━━━━━━━━━━━━━━━━━━━\u001b[0m \u001b[32m54.3/54.3 KB\u001b[0m \u001b[31m4.1 MB/s\u001b[0m eta \u001b[36m0:00:00\u001b[0m\n",
      "\u001b[?25hRequirement already satisfied: requests>=2.20 in /home/jaiver/.local/lib/python3.10/site-packages (from twine->pyloco>=0.0.134->matplot) (2.25.1)\n",
      "Requirement already satisfied: zipp>=0.5 in /usr/lib/python3.10/site-packages (from importlib-metadata>=3.6->twine->pyloco>=0.0.134->matplot) (3.7.0)\n",
      "Collecting SecretStorage>=3.2\n",
      "  Downloading SecretStorage-3.3.2-py3-none-any.whl (15 kB)\n",
      "Collecting jeepney>=0.4.2\n",
      "  Downloading jeepney-0.8.0-py3-none-any.whl (48 kB)\n",
      "\u001b[2K     \u001b[38;2;114;156;31m━━━━━━━━━━━━━━━━━━━━━━━━━━━━━━━━━━━━━━━━\u001b[0m \u001b[32m48.4/48.4 KB\u001b[0m \u001b[31m2.6 MB/s\u001b[0m eta \u001b[36m0:00:00\u001b[0m\n",
      "\u001b[?25hCollecting docutils>=0.13.1\n",
      "  Downloading docutils-0.18.1-py2.py3-none-any.whl (570 kB)\n",
      "\u001b[2K     \u001b[38;2;114;156;31m━━━━━━━━━━━━━━━━━━━━━━━━━━━━━━━━━━━━━━━\u001b[0m \u001b[32m570.0/570.0 KB\u001b[0m \u001b[31m2.4 MB/s\u001b[0m eta \u001b[36m0:00:00\u001b[0m[31m2.5 MB/s\u001b[0m eta \u001b[36m0:00:01\u001b[0m\n",
      "\u001b[?25hRequirement already satisfied: Pygments>=2.5.1 in /home/jaiver/.local/lib/python3.10/site-packages (from readme-renderer>=21.0->twine->pyloco>=0.0.134->matplot) (2.11.2)\n",
      "Requirement already satisfied: bleach>=2.1.0 in /home/jaiver/.local/lib/python3.10/site-packages (from readme-renderer>=21.0->twine->pyloco>=0.0.134->matplot) (4.1.0)\n",
      "Requirement already satisfied: idna<3,>=2.5 in /home/jaiver/.local/lib/python3.10/site-packages (from requests>=2.20->twine->pyloco>=0.0.134->matplot) (2.10)\n",
      "Requirement already satisfied: chardet<5,>=3.0.2 in /usr/lib/python3.10/site-packages (from requests>=2.20->twine->pyloco>=0.0.134->matplot) (4.0.0)\n",
      "Requirement already satisfied: certifi>=2017.4.17 in /usr/lib/python3.10/site-packages (from requests>=2.20->twine->pyloco>=0.0.134->matplot) (2021.10.8)\n",
      "Collecting commonmark<0.10.0,>=0.9.0\n",
      "  Downloading commonmark-0.9.1-py2.py3-none-any.whl (51 kB)\n",
      "\u001b[2K     \u001b[38;2;114;156;31m━━━━━━━━━━━━━━━━━━━━━━━━━━━━━━━━━━━━━━━━\u001b[0m \u001b[32m51.1/51.1 KB\u001b[0m \u001b[31m1.9 MB/s\u001b[0m eta \u001b[36m0:00:00\u001b[0m\n",
      "\u001b[?25hRequirement already satisfied: webencodings in /usr/lib/python3.10/site-packages (from bleach>=2.1.0->readme-renderer>=21.0->twine->pyloco>=0.0.134->matplot) (0.5.1)\n",
      "Requirement already satisfied: cryptography>=2.0 in /home/jaiver/.local/lib/python3.10/site-packages (from SecretStorage>=3.2->keyring>=15.1->twine->pyloco>=0.0.134->matplot) (3.4.8)\n",
      "Requirement already satisfied: cffi>=1.12 in /usr/lib/python3.10/site-packages (from cryptography>=2.0->SecretStorage>=3.2->keyring>=15.1->twine->pyloco>=0.0.134->matplot) (1.15.0)\n",
      "Requirement already satisfied: pycparser in /usr/lib/python3.10/site-packages (from cffi>=1.12->cryptography>=2.0->SecretStorage>=3.2->keyring>=15.1->twine->pyloco>=0.0.134->matplot) (2.21)\n",
      "Using legacy 'setup.py install' for SimpleWebSocketServer, since package 'wheel' is not installed.\n",
      "Using legacy 'setup.py install' for typing, since package 'wheel' is not installed.\n",
      "Using legacy 'setup.py install' for ushlex, since package 'wheel' is not installed.\n",
      "Installing collected packages: ushlex, SimpleWebSocketServer, pkginfo, commonmark, typing, rich, rfc3986, jeepney, docutils, requests-toolbelt, SecretStorage, readme-renderer, keyring, twine, pyloco, matplot\n",
      "  Running setup.py install for ushlex ... \u001b[?25ldone\n",
      "\u001b[?25h  Running setup.py install for SimpleWebSocketServer ... \u001b[?25ldone\n",
      "\u001b[?25h  Running setup.py install for typing ... \u001b[?25ldone\n",
      "\u001b[?25hSuccessfully installed SecretStorage-3.3.2 SimpleWebSocketServer-0.1.1 commonmark-0.9.1 docutils-0.18.1 jeepney-0.8.0 keyring-23.5.0 matplot-0.1.9 pkginfo-1.8.2 pyloco-0.0.139 readme-renderer-35.0 requests-toolbelt-0.9.1 rfc3986-2.0.0 rich-12.2.0 twine-4.0.0 typing-3.7.4.3 ushlex-0.99.1\n"
     ]
    }
   ],
   "source": [
    "!pip install pandas\n",
    "!pip install numpy\n",
    "!pip install matplot"
   ]
  },
  {
   "cell_type": "markdown",
   "metadata": {},
   "source": [
    "Análisis de datos para datos abiertos de Bogotá \n",
    "\n",
    "1 Descargar los datos en formato csv de: https://datosabiertos.bogota.gov.co/dataset/predios-bogota\n",
    "\n",
    "2.Se importan las bibliotecas necesarias.\n"
   ]
  },
  {
   "cell_type": "code",
   "execution_count": 3,
   "metadata": {},
   "outputs": [],
   "source": [
    "import pandas as pd\n",
    "import numpy as np\n",
    "import matplotlib.pyplot as plt"
   ]
  },
  {
   "cell_type": "markdown",
   "metadata": {},
   "source": [
    "Se define una función para limpiar los datos del .csv"
   ]
  },
  {
   "cell_type": "code",
   "execution_count": 4,
   "metadata": {},
   "outputs": [],
   "source": [
    "def CCleanData(x):\n",
    "    x=x.replace(',','.')\n",
    "    x=x.replace(' ','')\n",
    "    try: \n",
    "        x=round(float(x), 3)\n",
    "    except:\n",
    "        x=0\n",
    "    \n",
    "    return x"
   ]
  },
  {
   "cell_type": "markdown",
   "metadata": {},
   "source": [
    "Se abre el archivo .csv, se limpian los datos de cada columna númerica mediante la función. Se tomaran 100000 lineas de datos."
   ]
  },
  {
   "cell_type": "code",
   "execution_count": 20,
   "metadata": {},
   "outputs": [],
   "source": [
    "myData=pd.read_csv(\"arboladourbano.csv\", on_bad_lines='skip', delimiter=',',\n",
    "converters={\n",
    "    'OBJECTID':CCleanData,\n",
    "    'Codigo_Arb':CCleanData,\n",
    "    'Con_Especi':CCleanData,\n",
    "    'Altura_Tot':CCleanData,\n",
    "    'Codigo_Loc':CCleanData,\n",
    "    'Latitud':CCleanData,\n",
    "    'Longitud':CCleanData,\n",
    "    'Cod_sist_e':CCleanData,\n",
    "    'Codigo_Sca':CCleanData,\n",
    "    'Cod_uso_su':CCleanData\n",
    "    }, \n",
    "nrows=100000)"
   ]
  },
  {
   "cell_type": "markdown",
   "metadata": {},
   "source": [
    "Se imprime el cabezero del archivo"
   ]
  },
  {
   "cell_type": "code",
   "execution_count": 23,
   "metadata": {},
   "outputs": [
    {
     "name": "stdout",
     "output_type": "stream",
     "text": [
      "   OBJECTID    Codigo_Arb  Con_Especi                 Nombre_Esp  Altura_Tot  \\\n",
      "0       1.0  1.010101e+12        25.0            Acacia japonesa       9.029   \n",
      "1       2.0  1.010101e+12        25.0            Acacia japonesa       6.553   \n",
      "2       3.0  1.010101e+12        25.0            Acacia japonesa       6.553   \n",
      "3       4.0  1.010101e+12        70.0  Tibar, pagoda o rodamonte       2.221   \n",
      "4       5.0  1.010101e+12        24.0             Urapán, Fresno       4.451   \n",
      "\n",
      "  Tipo_Empla Codigo_UPZ  Codigo_Loc  Fecha_Actu  Latitud  Longitud  \\\n",
      "0         H3      UPZ16         1.0  2005/10/27    4.690   -74.056   \n",
      "1         H4      UPZ16         1.0  2005/10/27    4.690   -74.056   \n",
      "2         H4      UPZ16         1.0  2005/10/27    4.690   -74.056   \n",
      "3         U4      UPZ16         1.0  2005/11/16    4.691   -74.056   \n",
      "4         U3      UPZ16         1.0  2005/10/27    4.691   -74.056   \n",
      "\n",
      "   Cod_sist_e  Codigo_Sca  Cod_uso_su  \n",
      "0         1.0      8412.0         1.0  \n",
      "1         1.0      8412.0         1.0  \n",
      "2         1.0      8412.0         1.0  \n",
      "3         4.0      8412.0         1.0  \n",
      "4         4.0      8412.0         1.0  \n"
     ]
    }
   ],
   "source": [
    "print(myData.head())"
   ]
  },
  {
   "cell_type": "markdown",
   "metadata": {},
   "source": [
    "Se imprime los datos de la columna nombre especie"
   ]
  },
  {
   "cell_type": "code",
   "execution_count": 24,
   "metadata": {},
   "outputs": [
    {
     "name": "stdout",
     "output_type": "stream",
     "text": [
      "0                        Acacia japonesa\n",
      "1                        Acacia japonesa\n",
      "2                        Acacia japonesa\n",
      "3              Tibar, pagoda o rodamonte\n",
      "4                         Urapán, Fresno\n",
      "                      ...               \n",
      "99995    Nogal, cedro nogal, cedro negro\n",
      "99996                              Roble\n",
      "99997              Guayacan de Manizales\n",
      "99998                   Sietecueros real\n",
      "99999                   Sietecueros real\n",
      "Name: Nombre_Esp, Length: 100000, dtype: object\n"
     ]
    }
   ],
   "source": [
    "print(myData['Nombre_Esp'])"
   ]
  },
  {
   "cell_type": "markdown",
   "metadata": {},
   "source": [
    "Se selecciona la columna 1 mediante .iloc"
   ]
  },
  {
   "cell_type": "code",
   "execution_count": 38,
   "metadata": {},
   "outputs": [
    {
     "name": "stdout",
     "output_type": "stream",
     "text": [
      "OBJECTID                  2.0\n",
      "Codigo_Arb    1010101000008.0\n",
      "Con_Especi               25.0\n",
      "Nombre_Esp    Acacia japonesa\n",
      "Altura_Tot              6.553\n",
      "Tipo_Empla                 H4\n",
      "Codigo_UPZ              UPZ16\n",
      "Codigo_Loc                1.0\n",
      "Fecha_Actu         2005/10/27\n",
      "Latitud                  4.69\n",
      "Longitud              -74.056\n",
      "Cod_sist_e                1.0\n",
      "Codigo_Sca             8412.0\n",
      "Cod_uso_su                1.0\n",
      "Name: 1, dtype: object\n"
     ]
    }
   ],
   "source": [
    "row=myData.iloc[1]\n",
    "print(row)"
   ]
  },
  {
   "cell_type": "markdown",
   "metadata": {},
   "source": [
    "Se imprime la forma del array"
   ]
  },
  {
   "cell_type": "code",
   "execution_count": 39,
   "metadata": {},
   "outputs": [
    {
     "name": "stdout",
     "output_type": "stream",
     "text": [
      "(100000, 14)\n"
     ]
    }
   ],
   "source": [
    "print(myData.shape)"
   ]
  },
  {
   "cell_type": "markdown",
   "metadata": {},
   "source": [
    "Se imprimer la información de los datos "
   ]
  },
  {
   "cell_type": "code",
   "execution_count": 40,
   "metadata": {},
   "outputs": [
    {
     "name": "stdout",
     "output_type": "stream",
     "text": [
      "<class 'pandas.core.frame.DataFrame'>\n",
      "RangeIndex: 100000 entries, 0 to 99999\n",
      "Data columns (total 14 columns):\n",
      " #   Column      Non-Null Count   Dtype  \n",
      "---  ------      --------------   -----  \n",
      " 0   OBJECTID    100000 non-null  float64\n",
      " 1   Codigo_Arb  100000 non-null  float64\n",
      " 2   Con_Especi  100000 non-null  float64\n",
      " 3   Nombre_Esp  100000 non-null  object \n",
      " 4   Altura_Tot  100000 non-null  float64\n",
      " 5   Tipo_Empla  100000 non-null  object \n",
      " 6   Codigo_UPZ  100000 non-null  object \n",
      " 7   Codigo_Loc  100000 non-null  float64\n",
      " 8   Fecha_Actu  100000 non-null  object \n",
      " 9   Latitud     100000 non-null  float64\n",
      " 10  Longitud    100000 non-null  float64\n",
      " 11  Cod_sist_e  100000 non-null  float64\n",
      " 12  Codigo_Sca  100000 non-null  float64\n",
      " 13  Cod_uso_su  100000 non-null  float64\n",
      "dtypes: float64(10), object(4)\n",
      "memory usage: 10.7+ MB\n",
      "None\n"
     ]
    }
   ],
   "source": [
    "print(myData.info())"
   ]
  },
  {
   "cell_type": "markdown",
   "metadata": {},
   "source": [
    "Se imprimen diversos valores de los datos estadisticos de los datos"
   ]
  },
  {
   "cell_type": "code",
   "execution_count": 41,
   "metadata": {},
   "outputs": [
    {
     "name": "stdout",
     "output_type": "stream",
     "text": [
      "            OBJECTID    Codigo_Arb     Con_Especi     Altura_Tot  Codigo_Loc  \\\n",
      "count  100000.000000  1.000000e+05  100000.000000  100000.000000    100000.0   \n",
      "mean    50000.500000  1.018248e+12      67.954650       4.528862         1.0   \n",
      "std     28867.657797  3.966639e+10      57.675131       4.339043         0.0   \n",
      "min         1.000000  1.010101e+12       1.000000       0.300000         1.0   \n",
      "25%     25000.750000  1.012405e+12      28.000000       1.700000         1.0   \n",
      "50%     50000.500000  1.020202e+12      57.000000       3.159000         1.0   \n",
      "75%     75000.250000  1.021904e+12      92.000000       5.645000         1.0   \n",
      "max    100000.000000  1.001190e+13     386.000000      39.826000         1.0   \n",
      "\n",
      "             Latitud       Longitud    Cod_sist_e     Codigo_Sca  Cod_uso_su  \n",
      "count  100000.000000  100000.000000  100000.00000  100000.000000    100000.0  \n",
      "mean        4.727629     -74.035729       3.04009   11567.528060         1.0  \n",
      "std         0.031409       0.008570       1.08952   17781.502313         0.0  \n",
      "min         4.680000     -74.057000       1.00000    8301.000000         1.0  \n",
      "25%         4.702000     -74.042000       2.00000    8415.000000         1.0  \n",
      "50%         4.724000     -74.035000       3.00000    8510.000000         1.0  \n",
      "75%         4.746000     -74.029000       4.00000    8528.000000         1.0  \n",
      "max         4.820000     -74.012000       6.00000  208203.000000         1.0  \n"
     ]
    }
   ],
   "source": [
    "print(myData.describe())"
   ]
  },
  {
   "cell_type": "markdown",
   "metadata": {},
   "source": [
    "Se imprimen diversos valores estadisticos solo para una columna"
   ]
  },
  {
   "cell_type": "code",
   "execution_count": 42,
   "metadata": {},
   "outputs": [
    {
     "name": "stdout",
     "output_type": "stream",
     "text": [
      "count                              100000\n",
      "unique                                266\n",
      "top       Jazmin del cabo, laurel huesito\n",
      "freq                                 8518\n",
      "Name: Nombre_Esp, dtype: object\n"
     ]
    }
   ],
   "source": [
    "print(myData['Nombre_Esp'].describe())"
   ]
  },
  {
   "cell_type": "markdown",
   "metadata": {},
   "source": [
    "1Se imprimen los valores de cada especie"
   ]
  },
  {
   "cell_type": "code",
   "execution_count": 30,
   "metadata": {},
   "outputs": [
    {
     "name": "stdout",
     "output_type": "stream",
     "text": [
      "Jazmin del cabo, laurel huesito        8518\n",
      "Sauco                                  8319\n",
      "Guayacan de Manizales                  5004\n",
      "Chicala, chirlobirlo, flor amarillo    4687\n",
      "Acacia negra, gris                     3320\n",
      "                                       ... \n",
      "Chocho, balu, cambulo                     1\n",
      "Platano                                   1\n",
      "Susque                                    1\n",
      "Dalia                                     1\n",
      "Pino Montezuma                            1\n",
      "Name: Nombre_Esp, Length: 266, dtype: int64\n"
     ]
    }
   ],
   "source": [
    "print(myData['Nombre_Esp'].value_counts())"
   ]
  },
  {
   "cell_type": "markdown",
   "metadata": {},
   "source": [
    "Se realiza la correlación de los datos y se imprimen."
   ]
  },
  {
   "cell_type": "code",
   "execution_count": 34,
   "metadata": {},
   "outputs": [
    {
     "name": "stdout",
     "output_type": "stream",
     "text": [
      "            OBJECTID  Codigo_Arb  Con_Especi  Altura_Tot  Codigo_Loc   Latitud  Longitud  Cod_sist_e  Codigo_Sca  Cod_uso_su\n",
      "OBJECTID    1.000000   -0.133271    0.099365   -0.081968         NaN -0.101688 -0.711513    0.083780   -0.142289         NaN\n",
      "Codigo_Arb -0.133271    1.000000   -0.012954    0.011732         NaN -0.042510  0.075900    0.005278    0.011663         NaN\n",
      "Con_Especi  0.099365   -0.012954    1.000000   -0.294987         NaN -0.011862 -0.004116    0.030354   -0.021036         NaN\n",
      "Altura_Tot -0.081968    0.011732   -0.294987    1.000000         NaN -0.016619  0.012225   -0.143750   -0.016404         NaN\n",
      "Codigo_Loc       NaN         NaN         NaN         NaN         NaN       NaN       NaN         NaN         NaN         NaN\n",
      "Latitud    -0.101688   -0.042510   -0.011862   -0.016619         NaN  1.000000  0.092459    0.102749    0.045148         NaN\n",
      "Longitud   -0.711513    0.075900   -0.004116    0.012225         NaN  0.092459  1.000000   -0.200813    0.201109         NaN\n",
      "Cod_sist_e  0.083780    0.005278    0.030354   -0.143750         NaN  0.102749 -0.200813    1.000000   -0.058276         NaN\n",
      "Codigo_Sca -0.142289    0.011663   -0.021036   -0.016404         NaN  0.045148  0.201109   -0.058276    1.000000         NaN\n",
      "Cod_uso_su       NaN         NaN         NaN         NaN         NaN       NaN       NaN         NaN         NaN         NaN\n"
     ]
    }
   ],
   "source": [
    "corr=myData.corr()\n",
    "print(corr.to_string())"
   ]
  },
  {
   "cell_type": "markdown",
   "metadata": {},
   "source": [
    "Se grafica la correlación de los datos."
   ]
  },
  {
   "cell_type": "code",
   "execution_count": 35,
   "metadata": {},
   "outputs": [
    {
     "data": {
      "image/png": "[encoded data removed]",
      "text/plain": [
       "<Figure size 432x288 with 1 Axes>"
      ]
     },
     "metadata": {
      "needs_background": "light"
     },
     "output_type": "display_data"
    }
   ],
   "source": [
    "myMatrixGraph=plt.figure()\n",
    "plt.matshow(corr, myMatrixGraph.number, cmap='Blues')\n",
    "plt.xticks(range(len(corr.columns)), corr.columns, rotation='vertical')\n",
    "plt.yticks(range(len(corr.columns)), corr.columns)\n",
    "plt.show()"
   ]
  }
 ],
 "metadata": {
  "kernelspec": {
   "display_name": "Python 3 (ipykernel)",
   "language": "python",
   "name": "python3"
  },
  "language_info": {
   "codemirror_mode": {
    "name": "ipython",
    "version": 3
   },
   "file_extension": ".py",
   "mimetype": "text/x-python",
   "name": "python",
   "nbconvert_exporter": "python",
   "pygments_lexer": "ipython3",
   "version": "3.10.2"
  }
 },
 "nbformat": 4,
 "nbformat_minor": 2
}
